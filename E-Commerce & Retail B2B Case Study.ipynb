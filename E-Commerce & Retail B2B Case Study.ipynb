{
 "cells": [
  {
   "cell_type": "markdown",
   "id": "206c250b",
   "metadata": {},
   "source": [
    "****E-Commerce & Retail B2B Classification Case Study****"
   ]
  },
  {
   "cell_type": "markdown",
   "id": "094a4dfe",
   "metadata": {},
   "source": [
    "***Problem Statement***\n",
    "\n",
    "Schuster is a multinational retail company dealing in sports goods and accessories. Schuster conducts significant business with hundreds of its vendors, with whom it has credit arrangements. Unfortunately, not all vendors respect credit terms and some of them tend to make payments late. Schuster levies heavy late payment fees, although this procedure is not beneficial to either party in a long-term business relationship. The company has some employees who keep chasing vendors to get the payment on time; this procedure nevertheless also results in non-value-added activities, loss of time and financial impact. Schuster would thus try to understand its customers’ payment behaviour and predict the likelihood of late payments against open invoices.\n",
    "\n",
    "\n",
    "\n",
    "To understand how to approach this problem using data science, let’s first understand the payment process at Schuster now. Every time a transaction of goods takes place with a vendor, the accounting team raises an invoice and shares it with the vendor. This invoice contains the details of the goods, the invoice value, the creation date and the payment due date based on the credit terms as per the contract. Business with these vendors occurs quite frequently. Hence, there are always multiple invoices associated with each vendor at any given time."
   ]
  },
  {
   "cell_type": "markdown",
   "id": "88fc1704",
   "metadata": {},
   "source": [
    "***Goal***\n",
    "\n",
    "Schuster would like to better understand the customers’ payment behaviour based on their past payment patterns (customer segmentation).\n",
    "Using historical information, it wants to be able to predict the likelihood of delayed payment against open invoices from its customers.\n",
    "It wants to use this information so that collectors can prioritise their work in following up with customers beforehand to get the payments on time.\n",
    "To summarise, as a business analyst, you want to find the answer to these questions:\n",
    "\n",
    "How can we analyse the customer transactions data to find different payment behaviours?\n",
    "In which way can you segregate the customers based on their previous payment patterns/behaviours?\n",
    "Based on the historical data, can you predict the likelihood of delayed payment against open invoices from the customers?\n",
    "Can you draw any business insights based on your developed model?\n",
    "\n",
    "\n",
    "Overall, you need to build a model with the primary objective of identifying important predictor attributes that will help the business understand indicators of late payment. You have to recommend the classification model that you would finally deploy for production and explain why you recommend it.\n",
    "\n"
   ]
  },
  {
   "cell_type": "markdown",
   "id": "8458a5fc",
   "metadata": {},
   "source": [
    "**Data Understanding**\n",
    "\n",
    "RECEIPT_METHOD\tIn which method payments have been made\n",
    "\n",
    "CUSTOMER_NAME\tName of the customer/vendor\n",
    "\n",
    "CUSTOMER_NUMBER\tCustomer's unique identity number\n",
    "\n",
    "RECEIPT_DOC_NO\tReference number of the payment receipt\n",
    "\n",
    "RECEIPT_DATE\tThe date in which the payment has been made\n",
    "\n",
    "CLASS\tAs the payment against these invoices have already been received so Transaction Class as PMT (short for Payment) assigned\n",
    "\n",
    "CURRENCY_CODE\tCurrency used for the payment\n",
    "\n",
    "Local Amount\tInvoice value in local currency\n",
    "\n",
    "USD Amount\tInvoice Value converted to USD\n",
    "\n",
    "INVOICE_ALLOCATED\tInvoice number that has been allocated to a particular vendor\n",
    "\n",
    "INVOICE_CREATION_DATE\tThe date on which the invoice was created\n",
    "\n",
    "DUE_DATE\tThe date by which the payment was to be made\n",
    "\n",
    "PAYMENT_TERM\tDays given to the vendor/customer for making the payments\n",
    "\n",
    "INVOICE_CLASS\tThree types of Invoice classes - Credit Memo or Credit Note (CM), Debit Memo or Debit Note (DM) or Invoice (INV)\n",
    "\n",
    "INVOICE_CURRENCY_CODE\tCurrency code as per the invoice generated\n",
    "\n",
    "INVOICE_TYPE\tInvoice created for physical goods or services (non-goods)\n",
    "\n",
    "Finally target variable will be derived based on the suggested information \"You need to derive it by checking whether the payment receipt date falls within, or after the due date. By doing so, you can create your binary target variable as 1 or 0.\""
   ]
  },
  {
   "cell_type": "code",
   "execution_count": 1,
   "id": "99ae44f2",
   "metadata": {},
   "outputs": [],
   "source": [
    "# Suppressing Warnings\n",
    "import warnings\n",
    "warnings.filterwarnings('ignore')\n",
    "# Importing Pandas and NumPy\n",
    "import pandas as pd, numpy as np"
   ]
  },
  {
   "cell_type": "code",
   "execution_count": 2,
   "id": "cb8d0eac",
   "metadata": {},
   "outputs": [
    {
     "ename": "FileNotFoundError",
     "evalue": "[Errno 2] No such file or directory: 'G:/M/Domain Oriented Case Study/E-Commerce & Retail B2B Case Study/Received_Payments_Data.xlsx'",
     "output_type": "error",
     "traceback": [
      "\u001b[1;31m---------------------------------------------------------------------------\u001b[0m",
      "\u001b[1;31mFileNotFoundError\u001b[0m                         Traceback (most recent call last)",
      "\u001b[1;32m<ipython-input-2-14e4a3e3382e>\u001b[0m in \u001b[0;36m<module>\u001b[1;34m\u001b[0m\n\u001b[0;32m      1\u001b[0m \u001b[1;31m# Importing Received dataset and looking at the first 5 records\u001b[0m\u001b[1;33m\u001b[0m\u001b[1;33m\u001b[0m\u001b[1;33m\u001b[0m\u001b[0m\n\u001b[1;32m----> 2\u001b[1;33m \u001b[0mtrain\u001b[0m \u001b[1;33m=\u001b[0m \u001b[0mpd\u001b[0m\u001b[1;33m.\u001b[0m\u001b[0mread_excel\u001b[0m\u001b[1;33m(\u001b[0m\u001b[1;34m\"G:/M/Domain Oriented Case Study/E-Commerce & Retail B2B Case Study/Received_Payments_Data.xlsx\"\u001b[0m\u001b[1;33m)\u001b[0m\u001b[1;33m\u001b[0m\u001b[1;33m\u001b[0m\u001b[0m\n\u001b[0m\u001b[0;32m      3\u001b[0m \u001b[0mtrain\u001b[0m\u001b[1;33m.\u001b[0m\u001b[0mhead\u001b[0m\u001b[1;33m(\u001b[0m\u001b[1;33m)\u001b[0m\u001b[1;33m\u001b[0m\u001b[1;33m\u001b[0m\u001b[0m\n",
      "\u001b[1;32m~\\anaconda3\\lib\\site-packages\\pandas\\util\\_decorators.py\u001b[0m in \u001b[0;36mwrapper\u001b[1;34m(*args, **kwargs)\u001b[0m\n\u001b[0;32m    297\u001b[0m                 )\n\u001b[0;32m    298\u001b[0m                 \u001b[0mwarnings\u001b[0m\u001b[1;33m.\u001b[0m\u001b[0mwarn\u001b[0m\u001b[1;33m(\u001b[0m\u001b[0mmsg\u001b[0m\u001b[1;33m,\u001b[0m \u001b[0mFutureWarning\u001b[0m\u001b[1;33m,\u001b[0m \u001b[0mstacklevel\u001b[0m\u001b[1;33m=\u001b[0m\u001b[0mstacklevel\u001b[0m\u001b[1;33m)\u001b[0m\u001b[1;33m\u001b[0m\u001b[1;33m\u001b[0m\u001b[0m\n\u001b[1;32m--> 299\u001b[1;33m             \u001b[1;32mreturn\u001b[0m \u001b[0mfunc\u001b[0m\u001b[1;33m(\u001b[0m\u001b[1;33m*\u001b[0m\u001b[0margs\u001b[0m\u001b[1;33m,\u001b[0m \u001b[1;33m**\u001b[0m\u001b[0mkwargs\u001b[0m\u001b[1;33m)\u001b[0m\u001b[1;33m\u001b[0m\u001b[1;33m\u001b[0m\u001b[0m\n\u001b[0m\u001b[0;32m    300\u001b[0m \u001b[1;33m\u001b[0m\u001b[0m\n\u001b[0;32m    301\u001b[0m         \u001b[1;32mreturn\u001b[0m \u001b[0mwrapper\u001b[0m\u001b[1;33m\u001b[0m\u001b[1;33m\u001b[0m\u001b[0m\n",
      "\u001b[1;32m~\\anaconda3\\lib\\site-packages\\pandas\\io\\excel\\_base.py\u001b[0m in \u001b[0;36mread_excel\u001b[1;34m(io, sheet_name, header, names, index_col, usecols, squeeze, dtype, engine, converters, true_values, false_values, skiprows, nrows, na_values, keep_default_na, na_filter, verbose, parse_dates, date_parser, thousands, comment, skipfooter, convert_float, mangle_dupe_cols, storage_options)\u001b[0m\n\u001b[0;32m    334\u001b[0m     \u001b[1;32mif\u001b[0m \u001b[1;32mnot\u001b[0m \u001b[0misinstance\u001b[0m\u001b[1;33m(\u001b[0m\u001b[0mio\u001b[0m\u001b[1;33m,\u001b[0m \u001b[0mExcelFile\u001b[0m\u001b[1;33m)\u001b[0m\u001b[1;33m:\u001b[0m\u001b[1;33m\u001b[0m\u001b[1;33m\u001b[0m\u001b[0m\n\u001b[0;32m    335\u001b[0m         \u001b[0mshould_close\u001b[0m \u001b[1;33m=\u001b[0m \u001b[1;32mTrue\u001b[0m\u001b[1;33m\u001b[0m\u001b[1;33m\u001b[0m\u001b[0m\n\u001b[1;32m--> 336\u001b[1;33m         \u001b[0mio\u001b[0m \u001b[1;33m=\u001b[0m \u001b[0mExcelFile\u001b[0m\u001b[1;33m(\u001b[0m\u001b[0mio\u001b[0m\u001b[1;33m,\u001b[0m \u001b[0mstorage_options\u001b[0m\u001b[1;33m=\u001b[0m\u001b[0mstorage_options\u001b[0m\u001b[1;33m,\u001b[0m \u001b[0mengine\u001b[0m\u001b[1;33m=\u001b[0m\u001b[0mengine\u001b[0m\u001b[1;33m)\u001b[0m\u001b[1;33m\u001b[0m\u001b[1;33m\u001b[0m\u001b[0m\n\u001b[0m\u001b[0;32m    337\u001b[0m     \u001b[1;32melif\u001b[0m \u001b[0mengine\u001b[0m \u001b[1;32mand\u001b[0m \u001b[0mengine\u001b[0m \u001b[1;33m!=\u001b[0m \u001b[0mio\u001b[0m\u001b[1;33m.\u001b[0m\u001b[0mengine\u001b[0m\u001b[1;33m:\u001b[0m\u001b[1;33m\u001b[0m\u001b[1;33m\u001b[0m\u001b[0m\n\u001b[0;32m    338\u001b[0m         raise ValueError(\n",
      "\u001b[1;32m~\\anaconda3\\lib\\site-packages\\pandas\\io\\excel\\_base.py\u001b[0m in \u001b[0;36m__init__\u001b[1;34m(self, path_or_buffer, engine, storage_options)\u001b[0m\n\u001b[0;32m   1069\u001b[0m                 \u001b[0mext\u001b[0m \u001b[1;33m=\u001b[0m \u001b[1;34m\"xls\"\u001b[0m\u001b[1;33m\u001b[0m\u001b[1;33m\u001b[0m\u001b[0m\n\u001b[0;32m   1070\u001b[0m             \u001b[1;32melse\u001b[0m\u001b[1;33m:\u001b[0m\u001b[1;33m\u001b[0m\u001b[1;33m\u001b[0m\u001b[0m\n\u001b[1;32m-> 1071\u001b[1;33m                 ext = inspect_excel_format(\n\u001b[0m\u001b[0;32m   1072\u001b[0m                     \u001b[0mcontent\u001b[0m\u001b[1;33m=\u001b[0m\u001b[0mpath_or_buffer\u001b[0m\u001b[1;33m,\u001b[0m \u001b[0mstorage_options\u001b[0m\u001b[1;33m=\u001b[0m\u001b[0mstorage_options\u001b[0m\u001b[1;33m\u001b[0m\u001b[1;33m\u001b[0m\u001b[0m\n\u001b[0;32m   1073\u001b[0m                 )\n",
      "\u001b[1;32m~\\anaconda3\\lib\\site-packages\\pandas\\io\\excel\\_base.py\u001b[0m in \u001b[0;36minspect_excel_format\u001b[1;34m(path, content, storage_options)\u001b[0m\n\u001b[0;32m    947\u001b[0m     \u001b[1;32massert\u001b[0m \u001b[0mcontent_or_path\u001b[0m \u001b[1;32mis\u001b[0m \u001b[1;32mnot\u001b[0m \u001b[1;32mNone\u001b[0m\u001b[1;33m\u001b[0m\u001b[1;33m\u001b[0m\u001b[0m\n\u001b[0;32m    948\u001b[0m \u001b[1;33m\u001b[0m\u001b[0m\n\u001b[1;32m--> 949\u001b[1;33m     with get_handle(\n\u001b[0m\u001b[0;32m    950\u001b[0m         \u001b[0mcontent_or_path\u001b[0m\u001b[1;33m,\u001b[0m \u001b[1;34m\"rb\"\u001b[0m\u001b[1;33m,\u001b[0m \u001b[0mstorage_options\u001b[0m\u001b[1;33m=\u001b[0m\u001b[0mstorage_options\u001b[0m\u001b[1;33m,\u001b[0m \u001b[0mis_text\u001b[0m\u001b[1;33m=\u001b[0m\u001b[1;32mFalse\u001b[0m\u001b[1;33m\u001b[0m\u001b[1;33m\u001b[0m\u001b[0m\n\u001b[0;32m    951\u001b[0m     ) as handle:\n",
      "\u001b[1;32m~\\anaconda3\\lib\\site-packages\\pandas\\io\\common.py\u001b[0m in \u001b[0;36mget_handle\u001b[1;34m(path_or_buf, mode, encoding, compression, memory_map, is_text, errors, storage_options)\u001b[0m\n\u001b[0;32m    649\u001b[0m         \u001b[1;32melse\u001b[0m\u001b[1;33m:\u001b[0m\u001b[1;33m\u001b[0m\u001b[1;33m\u001b[0m\u001b[0m\n\u001b[0;32m    650\u001b[0m             \u001b[1;31m# Binary mode\u001b[0m\u001b[1;33m\u001b[0m\u001b[1;33m\u001b[0m\u001b[1;33m\u001b[0m\u001b[0m\n\u001b[1;32m--> 651\u001b[1;33m             \u001b[0mhandle\u001b[0m \u001b[1;33m=\u001b[0m \u001b[0mopen\u001b[0m\u001b[1;33m(\u001b[0m\u001b[0mhandle\u001b[0m\u001b[1;33m,\u001b[0m \u001b[0mioargs\u001b[0m\u001b[1;33m.\u001b[0m\u001b[0mmode\u001b[0m\u001b[1;33m)\u001b[0m\u001b[1;33m\u001b[0m\u001b[1;33m\u001b[0m\u001b[0m\n\u001b[0m\u001b[0;32m    652\u001b[0m         \u001b[0mhandles\u001b[0m\u001b[1;33m.\u001b[0m\u001b[0mappend\u001b[0m\u001b[1;33m(\u001b[0m\u001b[0mhandle\u001b[0m\u001b[1;33m)\u001b[0m\u001b[1;33m\u001b[0m\u001b[1;33m\u001b[0m\u001b[0m\n\u001b[0;32m    653\u001b[0m \u001b[1;33m\u001b[0m\u001b[0m\n",
      "\u001b[1;31mFileNotFoundError\u001b[0m: [Errno 2] No such file or directory: 'G:/M/Domain Oriented Case Study/E-Commerce & Retail B2B Case Study/Received_Payments_Data.xlsx'"
     ]
    }
   ],
   "source": [
    "# Importing Received dataset and looking at the first 5 records\n",
    "train = pd.read_excel(\"G:/M/Domain Oriented Case Study/E-Commerce & Retail B2B Case Study/Received_Payments_Data.xlsx\")\n",
    "train.head()"
   ]
  },
  {
   "cell_type": "markdown",
   "id": "d98305e9",
   "metadata": {},
   "source": [
    "**Summary Statistics and EDA on train data**"
   ]
  },
  {
   "cell_type": "code",
   "execution_count": null,
   "id": "eadf5cc2",
   "metadata": {},
   "outputs": [],
   "source": [
    "##min, max and average value of invoice value in USD\n",
    "print('minimum invoice value: ',train['USD Amount'].min())\n",
    "print('maximum invoice value: ',train['USD Amount'].max())\n",
    "print('average invoice value: ',np.round(train['USD Amount'].mean(),1))"
   ]
  },
  {
   "cell_type": "code",
   "execution_count": null,
   "id": "87af8e57",
   "metadata": {},
   "outputs": [],
   "source": [
    "import matplotlib.pyplot as plt\n",
    "import seaborn as sns"
   ]
  },
  {
   "cell_type": "code",
   "execution_count": null,
   "id": "fe017a59",
   "metadata": {},
   "outputs": [],
   "source": [
    "train[['INVOICE_CREATION_DATE','DUE_DATE', 'AS_OF_DATE']] = train[['INVOICE_CREATION_DATE','DUE_DATE', 'AS_OF_DATE']].apply(pd.to_datetime)"
   ]
  },
  {
   "cell_type": "code",
   "execution_count": null,
   "id": "0f8fe8f9",
   "metadata": {},
   "outputs": [],
   "source": [
    "#0: Delayed\n",
    "#1: On time\n",
    "#creating the target variable\n",
    "train['target'] = np.where(train['INVOICE_CREATION_DATE']>train['DUE_DATE'], 0, 1)"
   ]
  },
  {
   "cell_type": "code",
   "execution_count": null,
   "id": "0363f206",
   "metadata": {},
   "outputs": [],
   "source": [
    "#counts of unique values\n",
    "train['target'].value_counts()"
   ]
  },
  {
   "cell_type": "code",
   "execution_count": null,
   "id": "eb24177b",
   "metadata": {},
   "outputs": [],
   "source": [
    "#average invoice value for delayed customers\n",
    "print('Average Invoice value for delayed customers: ',np.round(train[train['target']==0]['USD Amount'].mean(),2))"
   ]
  },
  {
   "cell_type": "code",
   "execution_count": null,
   "id": "790163cc",
   "metadata": {},
   "outputs": [],
   "source": [
    "#checking the basic information about the columns\n",
    "train.info()"
   ]
  },
  {
   "cell_type": "code",
   "execution_count": null,
   "id": "85786d33",
   "metadata": {},
   "outputs": [],
   "source": [
    "#Plotting the distribution of invoice value\n",
    "train['USD Amount'].plot.hist()"
   ]
  },
  {
   "cell_type": "code",
   "execution_count": null,
   "id": "f3378e1e",
   "metadata": {},
   "outputs": [],
   "source": [
    "import seaborn as sns\n",
    "sns.set_theme(style=\"whitegrid\")"
   ]
  },
  {
   "cell_type": "code",
   "execution_count": null,
   "id": "7190cc63",
   "metadata": {},
   "outputs": [],
   "source": [
    "sns.countplot(x=train[\"target\"])"
   ]
  },
  {
   "cell_type": "code",
   "execution_count": null,
   "id": "6a10e466",
   "metadata": {},
   "outputs": [],
   "source": [
    "c = train.target.value_counts()\n",
    "p = np.round(train.target.value_counts(normalize=True)*100,2)\n",
    "pd.concat([c,p], axis=1, keys=['counts', '%'])"
   ]
  },
  {
   "cell_type": "markdown",
   "id": "5d695f46",
   "metadata": {},
   "source": [
    "Here we can see, approximately 4% of the customers are marked as 'Delayed'\n",
    "Clearly class imbalance is the isuue and we will deal it in the model building process"
   ]
  },
  {
   "cell_type": "code",
   "execution_count": null,
   "id": "57312663",
   "metadata": {},
   "outputs": [],
   "source": [
    "#delayed and on-time customer unique value counts with the payment class\n",
    "sns.countplot(data=train, x=\"CLASS\", hue=\"target\")"
   ]
  },
  {
   "cell_type": "code",
   "execution_count": null,
   "id": "5b513860",
   "metadata": {},
   "outputs": [],
   "source": [
    "#unique value counts of payment terms\n",
    "train['PAYMENT_TERM'].value_counts()"
   ]
  },
  {
   "cell_type": "code",
   "execution_count": null,
   "id": "487df1d4",
   "metadata": {},
   "outputs": [],
   "source": [
    "#unique value count distribution of invoice class\n",
    "train['INVOICE_CLASS'].value_counts()"
   ]
  },
  {
   "cell_type": "code",
   "execution_count": null,
   "id": "3d737c9c",
   "metadata": {},
   "outputs": [],
   "source": [
    "#unique value count distribution of invoice type\n",
    "train['INVOICE_TYPE'].value_counts()"
   ]
  },
  {
   "cell_type": "code",
   "execution_count": null,
   "id": "2f64d508",
   "metadata": {},
   "outputs": [],
   "source": [
    "#delayed and on-time customer distribution across the invoice class categories\n",
    "sns.countplot(data=train, x='INVOICE_CLASS', hue=\"target\")"
   ]
  },
  {
   "cell_type": "code",
   "execution_count": null,
   "id": "27c0b54a",
   "metadata": {},
   "outputs": [],
   "source": [
    "#delayed and on-time customer distribution across the invoice type categories\n",
    "sns.countplot(data=train, x='INVOICE_TYPE', hue=\"target\")"
   ]
  },
  {
   "cell_type": "code",
   "execution_count": null,
   "id": "ccb4c51e",
   "metadata": {},
   "outputs": [],
   "source": [
    "#Multivariate analysis\n",
    "sns.barplot(data=train, x=\"INVOICE_TYPE\", y=\"USD Amount\", hue=\"target\")"
   ]
  },
  {
   "cell_type": "markdown",
   "id": "9a401ec8",
   "metadata": {},
   "source": [
    "invoice amount showing pretty high for delayed payment customers in Goods invoice type"
   ]
  },
  {
   "cell_type": "code",
   "execution_count": null,
   "id": "8e5d1dc8",
   "metadata": {},
   "outputs": [],
   "source": [
    "#Multivariate analysis\n",
    "sns.barplot(data=train, x=\"INVOICE_CLASS\", y=\"USD Amount\", hue=\"target\")"
   ]
  },
  {
   "cell_type": "markdown",
   "id": "71309c73",
   "metadata": {},
   "source": [
    "credit card payment mode accounts highest invoice amount across all the invoice classes for on-time customers "
   ]
  },
  {
   "cell_type": "code",
   "execution_count": null,
   "id": "45f8ab0a",
   "metadata": {},
   "outputs": [],
   "source": [
    "#distribution of the invoice amount(USD)\n",
    "train['USD Amount'].plot(kind='hist')"
   ]
  },
  {
   "cell_type": "code",
   "execution_count": null,
   "id": "6e901461",
   "metadata": {},
   "outputs": [],
   "source": [
    "#variable transformation\n",
    "#method: cube root \n",
    "train['cbrt_USD_Amount'] = np.cbrt(train['USD Amount'])"
   ]
  },
  {
   "cell_type": "code",
   "execution_count": null,
   "id": "1af184b0",
   "metadata": {},
   "outputs": [],
   "source": [
    "train['cbrt_USD_Amount'].plot(kind='hist')"
   ]
  },
  {
   "cell_type": "code",
   "execution_count": null,
   "id": "802c0f73",
   "metadata": {},
   "outputs": [],
   "source": [
    "#The age is calculated in days by taking the difference between Transaction Date and Due Date\n",
    "train['age']=(train['INVOICE_CREATION_DATE']-train['DUE_DATE']).dt.days"
   ]
  },
  {
   "cell_type": "code",
   "execution_count": null,
   "id": "afafc71f",
   "metadata": {},
   "outputs": [],
   "source": [
    "train[train['target']==1].sample(5)"
   ]
  },
  {
   "cell_type": "markdown",
   "id": "52e017b0",
   "metadata": {},
   "source": [
    "**Clustering - Customer Segmentation**"
   ]
  },
  {
   "cell_type": "markdown",
   "id": "1af4e65a",
   "metadata": {},
   "source": [
    "**Recommendation Given:** Customer-level attributes could also be important independent variables to be included in the model.\n",
    "A customer-level attribute can be determined via customer segmentation. You have to segment your customers based on\n",
    "two derived variables: the average payment time in days for a customer and the standard deviation for the payment time.\n",
    "Using clustering techniques would result in a few distinct clusters of customers, which can be used as an input variable\n",
    "for the ML model."
   ]
  },
  {
   "cell_type": "code",
   "execution_count": null,
   "id": "202707cc",
   "metadata": {},
   "outputs": [],
   "source": [
    "clustering_data = train[['Customer Type','target','Local Amount','age','INVOICE_CLASS','INVOICE_CREATION_DATE']]"
   ]
  },
  {
   "cell_type": "code",
   "execution_count": null,
   "id": "ede4db0e",
   "metadata": {},
   "outputs": [],
   "source": [
    "clustering_data = clustering_data.applymap(lambda s: s.lower() if type(s) == str else s)"
   ]
  },
  {
   "cell_type": "code",
   "execution_count": null,
   "id": "5fb7148d",
   "metadata": {},
   "outputs": [],
   "source": [
    "clustering_data.columns= clustering_data.columns.str.lower()"
   ]
  },
  {
   "cell_type": "code",
   "execution_count": null,
   "id": "c4ddb48b",
   "metadata": {},
   "outputs": [],
   "source": [
    "clustering_data['std'] = clustering_data[['age','local amount']].std(axis=1)"
   ]
  },
  {
   "cell_type": "code",
   "execution_count": null,
   "id": "3e3f4521",
   "metadata": {},
   "outputs": [],
   "source": [
    "clustering_data['target'] = clustering_data['target'].astype(str)"
   ]
  },
  {
   "cell_type": "code",
   "execution_count": null,
   "id": "957daab3",
   "metadata": {},
   "outputs": [],
   "source": [
    "clustering_data = clustering_data.loc[clustering_data['age']<=1200]"
   ]
  },
  {
   "cell_type": "code",
   "execution_count": null,
   "id": "c53efd75",
   "metadata": {},
   "outputs": [],
   "source": [
    "median = clustering_data[\"age\"].median()\n",
    "clustering_data[\"age\"] = np.where(clustering_data[\"age\"] >400, median,clustering_data['age'])"
   ]
  },
  {
   "cell_type": "code",
   "execution_count": null,
   "id": "d68740e4",
   "metadata": {},
   "outputs": [],
   "source": [
    "from pandas.api.types import is_string_dtype\n",
    "from pandas.api.types import is_numeric_dtype"
   ]
  },
  {
   "cell_type": "code",
   "execution_count": null,
   "id": "3d8faabd",
   "metadata": {},
   "outputs": [],
   "source": [
    "# populate list of numerical and categorical variables\n",
    "num_list = []\n",
    "cat_list = []\n",
    "\n",
    "for column in clustering_data:\n",
    "    if is_numeric_dtype(clustering_data[column]):\n",
    "        num_list.append(column)\n",
    "    elif is_string_dtype(clustering_data[column]):\n",
    "        cat_list.append(column)\n",
    "        \n",
    "\n",
    "print(\"numeric:\", num_list)\n",
    "print(\"categorical:\", cat_list)"
   ]
  },
  {
   "cell_type": "code",
   "execution_count": null,
   "id": "53b19c2c",
   "metadata": {},
   "outputs": [],
   "source": [
    "for column in clustering_data:\n",
    "    plt.figure(column, figsize = (5,5))\n",
    "    plt.title(column)\n",
    "    if is_numeric_dtype(clustering_data[column]):\n",
    "        clustering_data[column].plot(kind = 'hist')\n",
    "    elif is_string_dtype(clustering_data[column]):\n",
    "        # show only the TOP 10 value count in each categorical data\n",
    "        clustering_data[column].value_counts()[:10].plot(kind = 'bar')"
   ]
  },
  {
   "cell_type": "code",
   "execution_count": null,
   "id": "12ba5405",
   "metadata": {},
   "outputs": [],
   "source": [
    "# encoding categorical variable\n",
    "from sklearn.preprocessing import LabelEncoder\n",
    "\n",
    "clustering_data['customer type'] = LabelEncoder().fit_transform(clustering_data[\"customer type\"])\n",
    "clustering_data['invoice_class'] = LabelEncoder().fit_transform(clustering_data[\"invoice_class\"])\n"
   ]
  },
  {
   "cell_type": "code",
   "execution_count": null,
   "id": "6e43f37e",
   "metadata": {},
   "outputs": [],
   "source": [
    "clustering_data.columns"
   ]
  },
  {
   "cell_type": "code",
   "execution_count": null,
   "id": "a1725920",
   "metadata": {},
   "outputs": [],
   "source": [
    "from sklearn.preprocessing import StandardScaler\n",
    "from sklearn.preprocessing import MinMaxScaler\n",
    "from sklearn.preprocessing import RobustScaler\n",
    "\n",
    "\n",
    "def data_scaler(scaler, var):\n",
    "    scaled_var = \"scaled_\" + var\n",
    "    model = scaler.fit(df[var].values.reshape(-1,1))\n",
    "    df[scaled_var] = model.transform(df[var].values.reshape(-1, 1))\n",
    "    \n",
    "    plt.figure(figsize = (5,5))\n",
    "    plt.title(scaled_var)\n",
    "    df[scaled_var].plot(kind = 'hist')\n",
    "    \n",
    "    plt.figure(figsize = (5,5))\n",
    "    plt.title(var)\n",
    "    df[var].plot(kind = 'hist')"
   ]
  },
  {
   "cell_type": "code",
   "execution_count": null,
   "id": "5c82e111",
   "metadata": {},
   "outputs": [],
   "source": [
    "from sklearn.preprocessing import StandardScaler\n",
    "\n",
    "scaler = StandardScaler()\n",
    "\n",
    "for var in [\"age\", \"local amount\"]:\n",
    "    scaled_var = \"scaled_\" + var\n",
    "    model = scaler.fit(clustering_data[var].values.reshape(-1,1))\n",
    "    clustering_data[scaled_var] = model.transform(clustering_data[var].values.reshape(-1, 1))"
   ]
  },
  {
   "cell_type": "code",
   "execution_count": null,
   "id": "5b8706fc",
   "metadata": {},
   "outputs": [],
   "source": [
    "plt.figure(figsize = (5,5))\n",
    "plt.title('scaled_age')\n",
    "clustering_data['scaled_age'].plot(kind = 'hist')"
   ]
  },
  {
   "cell_type": "code",
   "execution_count": null,
   "id": "54e09287",
   "metadata": {},
   "outputs": [],
   "source": [
    "plt.figure(figsize = (5,5))\n",
    "plt.title('scaled_local amount')\n",
    "clustering_data['scaled_local amount'].plot(kind = 'hist')"
   ]
  },
  {
   "cell_type": "code",
   "execution_count": null,
   "id": "962ba3fc",
   "metadata": {},
   "outputs": [],
   "source": [
    "import seaborn as sns\n",
    "columns = ['scaled_age','scaled_local amount']\n",
    "#plt.figure(figsize = (10,20))\n",
    "g = sns.pairplot(clustering_data[columns])\n",
    "g.fig.set_size_inches(15,5)"
   ]
  },
  {
   "cell_type": "code",
   "execution_count": null,
   "id": "2ba10c6d",
   "metadata": {},
   "outputs": [],
   "source": [
    "# Load packages\n",
    "import pandas as pd\n",
    "import seaborn as sns\n",
    "import numpy as np\n",
    "import matplotlib.pyplot as plt \n",
    "from sklearn.cluster import KMeans\n",
    "from sklearn.model_selection import train_test_split\n",
    "sns.set_style('darkgrid')"
   ]
  },
  {
   "cell_type": "code",
   "execution_count": null,
   "id": "4dc235d9",
   "metadata": {},
   "outputs": [],
   "source": [
    "X = np.array(clustering_data.loc[:,['std',                # Choose the variable names\n",
    "                       'age']])    \\\n",
    "                        .reshape(-1, 2)"
   ]
  },
  {
   "cell_type": "code",
   "execution_count": null,
   "id": "0fe3bb89",
   "metadata": {},
   "outputs": [],
   "source": [
    "# Determine optimal cluster number with elbow method\n",
    "wcss = []"
   ]
  },
  {
   "cell_type": "code",
   "execution_count": null,
   "id": "19a3f53b",
   "metadata": {},
   "outputs": [],
   "source": [
    "for i in range(1, 11):\n",
    "    model = KMeans(n_clusters = i,     \n",
    "                    init = 'k-means++',                 # Initialization method for kmeans\n",
    "                    max_iter = 300,                     # Maximum number of iterations \n",
    "                    n_init = 10,                        # Choose how often algorithm will run with different centroid \n",
    "                    random_state = 0)                   # Choose random state for reproducibility\n",
    "    model.fit(X)                              \n",
    "    wcss.append(model.inertia_)"
   ]
  },
  {
   "cell_type": "code",
   "execution_count": null,
   "id": "a2d275b2",
   "metadata": {},
   "outputs": [],
   "source": [
    "# Show Elbow plot\n",
    "plt.plot(range(1, 11), wcss)\n",
    "plt.title('Elbow Method')                               # Set plot title\n",
    "plt.xlabel('Number of clusters')                        # Set x axis name\n",
    "plt.ylabel('Within Cluster Sum of Squares (WCSS)')      # Set y axis name\n",
    "plt.show()"
   ]
  },
  {
   "cell_type": "code",
   "execution_count": null,
   "id": "a7412976",
   "metadata": {},
   "outputs": [],
   "source": [
    "kmeans = KMeans(n_clusters = 3,                 # Set amount of clusters\n",
    "                init = 'k-means++',             # Initialization method for kmeans\n",
    "                max_iter = 300,                 # Maximum number of iterations\n",
    "                n_init = 10,                    # Choose how often algorithm will run with different centroid\n",
    "                random_state = 0)               # Choose random state for reproducibility\n",
    "\n",
    "pred_y = kmeans.fit_predict(X)"
   ]
  },
  {
   "cell_type": "code",
   "execution_count": null,
   "id": "c08c7d05",
   "metadata": {},
   "outputs": [],
   "source": [
    "# Plot the data\n",
    "plt.scatter(X[:,0], \n",
    "            X[:,1])\n",
    "\n",
    "# Plot the clusters \n",
    "plt.scatter(kmeans.cluster_centers_[:, 0], \n",
    "            kmeans.cluster_centers_[:, 1], \n",
    "            s=1000,                             # Set centroid size\n",
    "            c='red',\n",
    "           alpha=0.5)                           # Set centroid color\n",
    "plt.show()"
   ]
  },
  {
   "cell_type": "markdown",
   "id": "584e9a3a",
   "metadata": {},
   "source": [
    "We can see that average days of the payment time are segmented in three main zones: 0-1 standard deviation of payment time, 2 standard deviation of payment time and 4 standard deviation of payment time"
   ]
  },
  {
   "cell_type": "markdown",
   "id": "59e9d889",
   "metadata": {},
   "source": [
    "**Data Preparation**"
   ]
  },
  {
   "cell_type": "code",
   "execution_count": null,
   "id": "3d794241",
   "metadata": {},
   "outputs": [],
   "source": [
    "#dropping the date columns as the necessary information has been derived before\n",
    "train = train.drop(['RECEIPT_DATE','AS_OF_DATE','DUE_DATE','INVOICE_CREATION_DATE'],axis=1)"
   ]
  },
  {
   "cell_type": "code",
   "execution_count": null,
   "id": "da35e89f",
   "metadata": {},
   "outputs": [],
   "source": [
    "train.head()"
   ]
  },
  {
   "cell_type": "code",
   "execution_count": null,
   "id": "dba5f341",
   "metadata": {},
   "outputs": [],
   "source": [
    "#making all lower-case\n",
    "train = train.applymap(lambda s: s.lower() if type(s) == str else s)"
   ]
  },
  {
   "cell_type": "code",
   "execution_count": null,
   "id": "15ba0362",
   "metadata": {},
   "outputs": [],
   "source": [
    "train.columns"
   ]
  },
  {
   "cell_type": "code",
   "execution_count": null,
   "id": "bf7c3008",
   "metadata": {},
   "outputs": [],
   "source": [
    "#making the header name lower-case\n",
    "train.columns= train.columns.str.lower()"
   ]
  },
  {
   "cell_type": "code",
   "execution_count": null,
   "id": "9279e570",
   "metadata": {},
   "outputs": [],
   "source": [
    "train.columns"
   ]
  },
  {
   "cell_type": "code",
   "execution_count": null,
   "id": "9c1d8b73",
   "metadata": {},
   "outputs": [],
   "source": [
    "train.isnull().sum()"
   ]
  },
  {
   "cell_type": "code",
   "execution_count": null,
   "id": "386d3cd1",
   "metadata": {},
   "outputs": [],
   "source": [
    "numeric_data = train.select_dtypes(include=[np.number])\n",
    "categorical_data = train.select_dtypes(exclude=[np.number])"
   ]
  },
  {
   "cell_type": "code",
   "execution_count": null,
   "id": "70ed0532",
   "metadata": {},
   "outputs": [],
   "source": [
    "#dropping unnecessary numeric columns\n",
    "numeric_data = numeric_data.drop(['customer_number', 'receipt_doc_no', 'local amount', 'usd amount'],axis=1)"
   ]
  },
  {
   "cell_type": "code",
   "execution_count": null,
   "id": "8c274f54",
   "metadata": {},
   "outputs": [],
   "source": [
    "numeric_data.columns"
   ]
  },
  {
   "cell_type": "code",
   "execution_count": null,
   "id": "dd38b1d2",
   "metadata": {},
   "outputs": [],
   "source": [
    "numeric_data.isnull().sum()"
   ]
  },
  {
   "cell_type": "code",
   "execution_count": null,
   "id": "0192eecd",
   "metadata": {},
   "outputs": [],
   "source": [
    "categorical_data.columns"
   ]
  },
  {
   "cell_type": "code",
   "execution_count": null,
   "id": "bc18854c",
   "metadata": {},
   "outputs": [],
   "source": [
    "#dropping unnecessary categorical columns\n",
    "categorical_data = categorical_data.drop(['receipt_method', 'customer_name','invoice_allocated', 'currency_code', 'class'],axis=1)"
   ]
  },
  {
   "cell_type": "code",
   "execution_count": null,
   "id": "fddf10de",
   "metadata": {},
   "outputs": [],
   "source": [
    "categorical_data.columns"
   ]
  },
  {
   "cell_type": "code",
   "execution_count": null,
   "id": "07c9f2a4",
   "metadata": {},
   "outputs": [],
   "source": [
    "#dummy encoding\n",
    "encoded_cols = pd.get_dummies(train[categorical_data.columns], drop_first=True)"
   ]
  },
  {
   "cell_type": "code",
   "execution_count": null,
   "id": "26425795",
   "metadata": {},
   "outputs": [],
   "source": [
    "data = pd.concat([numeric_data,encoded_cols], axis=1)"
   ]
  },
  {
   "cell_type": "code",
   "execution_count": null,
   "id": "fa5c1ab9",
   "metadata": {},
   "outputs": [],
   "source": [
    "data.shape"
   ]
  },
  {
   "cell_type": "code",
   "execution_count": null,
   "id": "f87d33dc",
   "metadata": {},
   "outputs": [],
   "source": [
    "data.sample(5)"
   ]
  },
  {
   "cell_type": "code",
   "execution_count": null,
   "id": "61c575eb",
   "metadata": {},
   "outputs": [],
   "source": [
    "data.shape"
   ]
  },
  {
   "cell_type": "markdown",
   "id": "c039fb33",
   "metadata": {},
   "source": [
    "**train-test split**"
   ]
  },
  {
   "cell_type": "code",
   "execution_count": null,
   "id": "7d58e763",
   "metadata": {},
   "outputs": [],
   "source": [
    "from sklearn.model_selection import train_test_split\n",
    "X = data.drop(['target'],axis=1)\n",
    "y = data[['target']]"
   ]
  },
  {
   "cell_type": "code",
   "execution_count": null,
   "id": "f457a959",
   "metadata": {},
   "outputs": [],
   "source": [
    "X_train, X_test, y_train, y_test = train_test_split(X, y, train_size = 0.7, test_size = 0.3, random_state = 100)"
   ]
  },
  {
   "cell_type": "code",
   "execution_count": null,
   "id": "2acf424f",
   "metadata": {},
   "outputs": [],
   "source": [
    "#apply standard scaler\n",
    "from sklearn.preprocessing import StandardScaler\n",
    "scaler = StandardScaler()"
   ]
  },
  {
   "cell_type": "code",
   "execution_count": null,
   "id": "d9c4ebcc",
   "metadata": {},
   "outputs": [],
   "source": [
    "num_vars = ['cbrt_usd_amount','age']"
   ]
  },
  {
   "cell_type": "code",
   "execution_count": null,
   "id": "1a988b00",
   "metadata": {},
   "outputs": [],
   "source": [
    "data[num_vars] = scaler.fit_transform(data[num_vars])"
   ]
  },
  {
   "cell_type": "code",
   "execution_count": null,
   "id": "dee5c43e",
   "metadata": {},
   "outputs": [],
   "source": [
    "scaler.fit(X_train[['cbrt_usd_amount','age']])\n",
    "X_train[['cbrt_usd_amount','age']] = scaler.transform(X_train[['cbrt_usd_amount','age']])"
   ]
  },
  {
   "cell_type": "code",
   "execution_count": null,
   "id": "2546904f",
   "metadata": {},
   "outputs": [],
   "source": [
    "X_test[['cbrt_usd_amount','age']] = scaler.transform(X_test[['cbrt_usd_amount','age']])"
   ]
  },
  {
   "cell_type": "markdown",
   "id": "652af089",
   "metadata": {},
   "source": [
    "**model building**"
   ]
  },
  {
   "cell_type": "code",
   "execution_count": null,
   "id": "03d19d60",
   "metadata": {},
   "outputs": [],
   "source": [
    "import statsmodels.api as sm\n",
    "# Logistic regression model\n",
    "logm1 = sm.GLM(y_train,(sm.add_constant(X_train)), family = sm.families.Binomial())\n",
    "logm1.fit().summary()"
   ]
  },
  {
   "cell_type": "code",
   "execution_count": null,
   "id": "fb5464f9",
   "metadata": {},
   "outputs": [],
   "source": [
    "from sklearn.linear_model import LogisticRegression\n",
    "logisticRegr = LogisticRegression()"
   ]
  },
  {
   "cell_type": "code",
   "execution_count": null,
   "id": "cb6cfd36",
   "metadata": {},
   "outputs": [],
   "source": [
    "logisticRegr.fit(X_train, y_train)"
   ]
  },
  {
   "cell_type": "code",
   "execution_count": null,
   "id": "4b94c44a",
   "metadata": {},
   "outputs": [],
   "source": [
    "# Use score method to get accuracy of model\n",
    "prediction = logisticRegr.predict(X_train)\n",
    "test_score = logisticRegr.score(X_test, y_test)\n",
    "test_score"
   ]
  },
  {
   "cell_type": "code",
   "execution_count": null,
   "id": "eecc1134",
   "metadata": {},
   "outputs": [],
   "source": [
    "print('X_train shape: ',X_train.shape)\n",
    "print('X_test shape: ',X_test.shape)"
   ]
  },
  {
   "cell_type": "code",
   "execution_count": null,
   "id": "7650558b",
   "metadata": {},
   "outputs": [],
   "source": [
    "train_pred = logisticRegr.predict(X_train)\n",
    "y_pred = logisticRegr.predict(X_test)"
   ]
  },
  {
   "cell_type": "code",
   "execution_count": null,
   "id": "0957d9a3",
   "metadata": {},
   "outputs": [],
   "source": [
    "from sklearn import metrics\n",
    "train_score = metrics.accuracy_score(y_train, train_pred)\n",
    "test_score = metrics.accuracy_score(y_test, y_pred)\n",
    "print(\"train score\", train_score)\n",
    "print(\"test score\", test_score)"
   ]
  },
  {
   "cell_type": "code",
   "execution_count": null,
   "id": "fd1f6199",
   "metadata": {},
   "outputs": [],
   "source": [
    "from sklearn.metrics import plot_confusion_matrix\n",
    "from sklearn.metrics import confusion_matrix, plot_confusion_matrix\n",
    "\n",
    "#conf_mat = confusion_matrix(y_test, y_pred)\n",
    "#class_names=[0,1]\n",
    "#print(conf_mat)\n",
    "#plt.figure(figsize=(10,5))\n",
    "\n",
    "#plt.grid(False)\n",
    "plt.figure(figsize=(10,5))\n",
    "plot_confusion_matrix(logisticRegr, X_test, y_test, cmap=\"summer\",\n",
    "                                colorbar=True)  \n",
    "plt.grid(False)\n",
    "plt.show()"
   ]
  },
  {
   "cell_type": "code",
   "execution_count": null,
   "id": "7cee1aa1",
   "metadata": {},
   "outputs": [],
   "source": [
    "from sklearn import metrics\n",
    "from sklearn.metrics import confusion_matrix\n",
    "# predict probabilities on Test and take probability for class 1([:1])\n",
    "y_pred_prob_test = logisticRegr.predict_proba(X_test)[:, 1]\n",
    "#predict labels on test dataset\n",
    "y_pred_test = logisticRegr.predict(X_test)\n",
    "# create onfusion matrix\n",
    "cm = confusion_matrix(y_test, y_pred_test)\n",
    "print(\"confusion Matrix is :\\n\\n\",cm)\n",
    "print(\"\\n\")\n",
    "# ROC- AUC score\n",
    "print(\"ROC-AUC score  test dataset:  \\t\", metrics.roc_auc_score(y_test,y_pred_prob_test))\n",
    "#Precision score\n",
    "print(\"precision score  test dataset:  \", metrics.precision_score(y_test,y_pred_test))\n",
    "#Recall Score\n",
    "print(\"Recall score  test dataset:  \\t\", metrics.recall_score(y_test,y_pred_test))\n",
    "#f1 score\n",
    "print(\"f1 score  test dataset :  \\t\", metrics.f1_score(y_test,y_pred_test))"
   ]
  },
  {
   "cell_type": "markdown",
   "id": "a3e4c817",
   "metadata": {},
   "source": [
    "Challenges related to imbalanced dataset\n",
    "1. Biased predictions\n",
    "2. Misleading accuracy"
   ]
  },
  {
   "cell_type": "markdown",
   "id": "b640b633",
   "metadata": {},
   "source": [
    "We will check with two efficient techniques: ADASYN and SMOTE+TOMEK"
   ]
  },
  {
   "cell_type": "markdown",
   "id": "42797540",
   "metadata": {},
   "source": [
    "**Dealing with class imbalance techniques**"
   ]
  },
  {
   "cell_type": "code",
   "execution_count": null,
   "id": "938e1149",
   "metadata": {},
   "outputs": [],
   "source": [
    "#ADASYN\n",
    "from collections import Counter\n",
    "from imblearn.over_sampling import ADASYN\n",
    "ada = ADASYN(random_state=45, n_neighbors=5)\n",
    "X_resampled_ada, y_resampled_ada = ada.fit_resample(X_train, y_train)\n",
    "len(X_resampled_ada)"
   ]
  },
  {
   "cell_type": "code",
   "execution_count": null,
   "id": "e8b790ca",
   "metadata": {},
   "outputs": [],
   "source": [
    "print(sorted(Counter(y_resampled_ada).items()))"
   ]
  },
  {
   "cell_type": "code",
   "execution_count": null,
   "id": "4d78a04a",
   "metadata": {},
   "outputs": [],
   "source": [
    "lreg_ada = LogisticRegression()\n",
    "lreg_ada.fit(X_resampled_ada, y_resampled_ada)\n",
    "\n",
    "y_pred_ada = lreg_ada.predict(X_test)"
   ]
  },
  {
   "cell_type": "code",
   "execution_count": null,
   "id": "5171b11d",
   "metadata": {},
   "outputs": [],
   "source": [
    "from sklearn import metrics \n",
    "print ('Accuracy: ', metrics.accuracy_score(y_test, y_pred_ada))\n",
    "print ('F1 score: ', metrics.f1_score(y_test, y_pred_ada))\n",
    "print ('Recall: ', metrics.recall_score(y_test, y_pred_ada))\n",
    "print ('Precision: ', metrics.precision_score(y_test, y_pred_ada))\n",
    "print ('\\n clasification report:\\n', metrics.classification_report(y_test,y_pred_ada))\n",
    "print ('\\n confussion matrix:\\n',metrics.confusion_matrix(y_test, y_pred_ada))"
   ]
  },
  {
   "cell_type": "markdown",
   "id": "d342894a",
   "metadata": {},
   "source": [
    "ADASYN is an automatic first choice to handle the class imbalance problem as it's an extension of SMOTE where the minority examples are generated based on their density distribution.\n",
    "More synthetic data are generated from minority class samples that are harder to learn as compared with those minority samples that are easier to learn."
   ]
  },
  {
   "cell_type": "markdown",
   "id": "5b2b054f",
   "metadata": {},
   "source": [
    "SMOTE+TOMEK Combining Oversampling and Undersampling\n",
    "\n",
    "1. Tomek links can be used as an under-sampling method or as a data cleaning method.\n",
    "2. Tomek links to the over-sampled training set as a data cleaning method. Thus, instead of removing only the majority class examples that from Tomek links, examples from both classes are removed."
   ]
  },
  {
   "cell_type": "code",
   "execution_count": null,
   "id": "5c01e6c6",
   "metadata": {},
   "outputs": [],
   "source": [
    "#SMOTE+TOMEK\n",
    "from imblearn.combine import SMOTETomek\n",
    "smt_tmk = SMOTETomek(random_state=45)\n",
    "X_resampled_smt_tmk, y_resampled_smt_tmk = smt_tmk.fit_resample(X_train, y_train)\n",
    "len(X_resampled_smt_tmk)"
   ]
  },
  {
   "cell_type": "code",
   "execution_count": null,
   "id": "a9ec4e15",
   "metadata": {},
   "outputs": [],
   "source": [
    "print(sorted(Counter(y_resampled_smt_tmk).items()))"
   ]
  },
  {
   "cell_type": "code",
   "execution_count": null,
   "id": "a5a00bc9",
   "metadata": {},
   "outputs": [],
   "source": [
    "lreg_smt_tmk = LogisticRegression()\n",
    "lreg_smt_tmk.fit(X_resampled_smt_tmk, y_resampled_smt_tmk)\n",
    "\n",
    "y_pred_smt_tmk = lreg_smt_tmk.predict(X_test)"
   ]
  },
  {
   "cell_type": "code",
   "execution_count": null,
   "id": "61d7c5e3",
   "metadata": {},
   "outputs": [],
   "source": [
    "print ('Accuracy: ', metrics.accuracy_score(y_test, y_pred_smt_tmk))\n",
    "print ('F1 score: ', metrics.f1_score(y_test, y_pred_smt_tmk))\n",
    "print ('Recall: ', metrics.recall_score(y_test, y_pred_smt_tmk))\n",
    "print ('Precision: ', metrics.precision_score(y_test, y_pred_smt_tmk))\n",
    "print ('\\n clasification report:\\n', metrics.classification_report(y_test,y_pred_smt_tmk))\n",
    "print ('\\n confussion matrix:\\n',metrics.confusion_matrix(y_test, y_pred_smt_tmk))"
   ]
  },
  {
   "cell_type": "markdown",
   "id": "d5d2725d",
   "metadata": {},
   "source": [
    "So, we will finalize the SMOTE+TOMEK model as it's giving the better result across all the metrics"
   ]
  },
  {
   "cell_type": "code",
   "execution_count": null,
   "id": "aa5c852f",
   "metadata": {},
   "outputs": [],
   "source": [
    "#Import Random Forest Model\n",
    "from sklearn.ensemble import RandomForestClassifier\n",
    "\n",
    "#Create a Gaussian Classifier\n",
    "clf=RandomForestClassifier(n_estimators=100)\n",
    "\n",
    "#Train the model using the training sets y_pred=clf.predict(X_test)\n",
    "clf.fit(X_train,y_train)\n",
    "\n",
    "y_pred=clf.predict(X_test)"
   ]
  },
  {
   "cell_type": "code",
   "execution_count": null,
   "id": "5e339064",
   "metadata": {},
   "outputs": [],
   "source": [
    "#train and test set prediction\n",
    "y_pred = clf.predict(X_test)\n",
    "y_pred_train = clf.predict(X_train)\n",
    "print(\"Train set accuracy:\",metrics.accuracy_score(y_train, y_pred_train))\n",
    "print(\"Test set accuracy:\",metrics.accuracy_score(y_test, y_pred))"
   ]
  },
  {
   "cell_type": "code",
   "execution_count": null,
   "id": "19e07924",
   "metadata": {},
   "outputs": [],
   "source": [
    "feature_imp = pd.Series(clf.feature_importances_,index=X_train.columns).sort_values(ascending=False)\n",
    "feature_imp.nlargest(20)"
   ]
  },
  {
   "cell_type": "markdown",
   "id": "e65b1f3c",
   "metadata": {},
   "source": [
    "Top 20 features as per the feature-importance of Random Forest model"
   ]
  },
  {
   "cell_type": "code",
   "execution_count": null,
   "id": "183fca78",
   "metadata": {},
   "outputs": [],
   "source": [
    "#Feature Importance using Recursive Feature Elimination\n",
    "from sklearn.feature_selection import RFE\n",
    "predictors = X_resampled_smt_tmk\n",
    "selector = RFE(lreg_smt_tmk, n_features_to_select=10)\n",
    "selector = selector.fit(predictors, y_resampled_smt_tmk)"
   ]
  },
  {
   "cell_type": "code",
   "execution_count": null,
   "id": "33d64073",
   "metadata": {},
   "outputs": [],
   "source": [
    "print(selector.support_)\n",
    "print(selector.ranking_)"
   ]
  },
  {
   "cell_type": "code",
   "execution_count": null,
   "id": "9d8fbfbe",
   "metadata": {},
   "outputs": [],
   "source": [
    "order = selector.ranking_\n",
    "order"
   ]
  },
  {
   "cell_type": "code",
   "execution_count": null,
   "id": "07d89ab9",
   "metadata": {},
   "outputs": [],
   "source": [
    "X_resampled_smt_tmk.columns[selector.support_]"
   ]
  },
  {
   "cell_type": "code",
   "execution_count": null,
   "id": "64ea0a56",
   "metadata": {},
   "outputs": [],
   "source": []
  },
  {
   "cell_type": "markdown",
   "id": "794132d6",
   "metadata": {},
   "source": [
    "**Finalize the model**"
   ]
  },
  {
   "cell_type": "code",
   "execution_count": null,
   "id": "e1267ce2",
   "metadata": {},
   "outputs": [],
   "source": [
    "X = data[['age',\n",
    "       'payment_term_50% advance payment and 50% upon receiving the shipment',\n",
    "       'payment_term_eom', 'payment_term_lcsight',\n",
    "       'payment_term_on consignment', 'invoice_currency_code_eur',\n",
    "       'invoice_currency_code_gbp', 'invoice_currency_code_kwd',\n",
    "       'invoice_currency_code_qar', 'invoice_type_non goods']]\n",
    "y = data[['target']]"
   ]
  },
  {
   "cell_type": "code",
   "execution_count": null,
   "id": "33099bcf",
   "metadata": {},
   "outputs": [],
   "source": [
    "X_train, X_test, y_train, y_test = train_test_split(X, y, train_size = 0.7, test_size = 0.3, random_state = 100)"
   ]
  },
  {
   "cell_type": "code",
   "execution_count": null,
   "id": "9bd7d68f",
   "metadata": {},
   "outputs": [],
   "source": [
    "from sklearn.preprocessing import StandardScaler\n",
    "scaler = StandardScaler()"
   ]
  },
  {
   "cell_type": "code",
   "execution_count": null,
   "id": "016c277d",
   "metadata": {},
   "outputs": [],
   "source": [
    "num_vars = ['age']"
   ]
  },
  {
   "cell_type": "code",
   "execution_count": null,
   "id": "575ef012",
   "metadata": {},
   "outputs": [],
   "source": [
    "data[num_vars] = scaler.fit_transform(data[num_vars])"
   ]
  },
  {
   "cell_type": "code",
   "execution_count": null,
   "id": "d100fc4a",
   "metadata": {},
   "outputs": [],
   "source": [
    "scaler.fit(X_train[['age']])\n",
    "X_train[['age']] = scaler.transform(X_train[['age']])"
   ]
  },
  {
   "cell_type": "code",
   "execution_count": null,
   "id": "f6cbfcca",
   "metadata": {},
   "outputs": [],
   "source": [
    "X_test[['age']] = scaler.transform(X_test[['age']])"
   ]
  },
  {
   "cell_type": "code",
   "execution_count": null,
   "id": "03d881f5",
   "metadata": {},
   "outputs": [],
   "source": [
    "#SMOTE+TOMEK\n",
    "from imblearn.combine import SMOTETomek\n",
    "smt_tmk = SMOTETomek(random_state=45)\n",
    "X_resampled_smt_tmk, y_resampled_smt_tmk = smt_tmk.fit_resample(X_train, y_train)\n",
    "len(X_resampled_smt_tmk)"
   ]
  },
  {
   "cell_type": "code",
   "execution_count": null,
   "id": "edc90096",
   "metadata": {},
   "outputs": [],
   "source": [
    "lreg_smt_tmk = LogisticRegression()\n",
    "lreg_smt_tmk.fit(X_resampled_smt_tmk, y_resampled_smt_tmk)\n",
    "\n",
    "y_pred_smt_tmk = lreg_smt_tmk.predict(X_test)"
   ]
  },
  {
   "cell_type": "code",
   "execution_count": null,
   "id": "7756884f",
   "metadata": {},
   "outputs": [],
   "source": [
    "from sklearn import metrics\n",
    "print ('Accuracy: ', metrics.accuracy_score(y_test, y_pred_smt_tmk))\n",
    "print ('F1 score: ', metrics.f1_score(y_test, y_pred_smt_tmk))\n",
    "print ('Recall: ', metrics.recall_score(y_test, y_pred_smt_tmk))\n",
    "print ('Precision: ', metrics.precision_score(y_test, y_pred_smt_tmk))\n",
    "print ('\\n clasification report:\\n', metrics.classification_report(y_test,y_pred_smt_tmk))\n",
    "print ('\\n confussion matrix:\\n',metrics.confusion_matrix(y_test, y_pred_smt_tmk))"
   ]
  },
  {
   "cell_type": "code",
   "execution_count": null,
   "id": "589384ef",
   "metadata": {},
   "outputs": [],
   "source": [
    "y_pred_proba = lreg_smt_tmk.predict_proba(X_test)[::,1]\n",
    "fpr, tpr, _ = metrics.roc_curve(y_test,  y_pred_proba)\n",
    "auc = metrics.roc_auc_score(y_test, y_pred_proba)\n",
    "#plt.figure(figsize=(16,8))\n",
    "#plt.plot(fpr,tpr,label=\"AUC-ROC Curve, auc=\"+str(auc))\n",
    "#plt.legend(loc=4) \n",
    "#plt.show()\n",
    "plt.subplots(1, figsize=(16,8))\n",
    "plt.title('Receiver Operating Characteristic - Logistic regression')\n",
    "plt.plot(fpr, tpr,label=\"AUC-ROC Curve, auc=\"+str(auc))\n",
    "plt.plot([0, 1], ls=\"--\")\n",
    "plt.plot([0, 0], [1, 0] , c=\".7\"), plt.plot([1, 1] , c=\".7\")\n",
    "plt.ylabel('Sensitivity(True Positive Rate)')\n",
    "plt.xlabel('1-Specificity(False Positive Rate)')\n",
    "plt.legend(loc=4)\n",
    "plt.show()"
   ]
  },
  {
   "cell_type": "code",
   "execution_count": null,
   "id": "2c2af217",
   "metadata": {},
   "outputs": [],
   "source": [
    "print(\"auc-roc score: \", metrics.roc_auc_score(y_test, y_pred_proba))"
   ]
  },
  {
   "cell_type": "markdown",
   "id": "6b379a72",
   "metadata": {},
   "source": [
    "So, we can observe that all score of the metrics got improved in this finalized model"
   ]
  },
  {
   "cell_type": "markdown",
   "id": "2d9c0829",
   "metadata": {},
   "source": [
    "**Unseen Data: Model Evaluation**"
   ]
  },
  {
   "cell_type": "code",
   "execution_count": null,
   "id": "4e251dd5",
   "metadata": {},
   "outputs": [],
   "source": [
    "# Importing the dataset and looking at the first 6 records\n",
    "test = pd.read_csv(\"G:/M/Domain Oriented Case Study/E-Commerce & Retail B2B Case Study/Open_Invoice_data.csv\",encoding='latin1')\n",
    "test.head()"
   ]
  },
  {
   "cell_type": "code",
   "execution_count": null,
   "id": "7bfb48b6",
   "metadata": {},
   "outputs": [],
   "source": [
    "df = pd.DataFrame()\n",
    "df['Customer No.'] = test['Customer Account No'].astype(str)"
   ]
  },
  {
   "cell_type": "code",
   "execution_count": null,
   "id": "4bcec386",
   "metadata": {},
   "outputs": [],
   "source": [
    "test = test.drop(['AS_OF_DATE','Transaction Number'],axis=1)"
   ]
  },
  {
   "cell_type": "code",
   "execution_count": null,
   "id": "59859fff",
   "metadata": {},
   "outputs": [],
   "source": [
    "test['invoice creation date'] = np.where(test['INV_CREATION_DATE'].str.contains('/'), pd.to_datetime(test['INV_CREATION_DATE']).dt.strftime('%m/%d/%Y'), pd.to_datetime(test['INV_CREATION_DATE'], dayfirst=True).dt.strftime('%m/%d/%Y'))"
   ]
  },
  {
   "cell_type": "code",
   "execution_count": null,
   "id": "66c14bfd",
   "metadata": {},
   "outputs": [],
   "source": [
    "test.sample(5)"
   ]
  },
  {
   "cell_type": "code",
   "execution_count": null,
   "id": "602ac5df",
   "metadata": {},
   "outputs": [],
   "source": [
    "test[['invoice creation date','Due Date']] = test[['invoice creation date','Due Date']].apply(pd.to_datetime)"
   ]
  },
  {
   "cell_type": "code",
   "execution_count": null,
   "id": "76b65822",
   "metadata": {},
   "outputs": [],
   "source": [
    "test['target'] = np.where(test['invoice creation date']>test['Due Date'], 0, 1)"
   ]
  },
  {
   "cell_type": "code",
   "execution_count": null,
   "id": "414ffaec",
   "metadata": {},
   "outputs": [],
   "source": [
    "test.target.value_counts()"
   ]
  },
  {
   "cell_type": "code",
   "execution_count": null,
   "id": "19d8c784",
   "metadata": {},
   "outputs": [],
   "source": [
    "df['actual'] = test['target']"
   ]
  },
  {
   "cell_type": "code",
   "execution_count": null,
   "id": "663e6162",
   "metadata": {},
   "outputs": [],
   "source": [
    "test.isnull().sum()"
   ]
  },
  {
   "cell_type": "code",
   "execution_count": null,
   "id": "1c747e13",
   "metadata": {},
   "outputs": [],
   "source": [
    "test = test.dropna()"
   ]
  },
  {
   "cell_type": "code",
   "execution_count": null,
   "id": "04c534b6",
   "metadata": {},
   "outputs": [],
   "source": [
    "test.info()"
   ]
  },
  {
   "cell_type": "code",
   "execution_count": null,
   "id": "fd0140ea",
   "metadata": {},
   "outputs": [],
   "source": [
    "test['USD Amount'] = test['USD Amount'].str.replace(',', '').astype(float)"
   ]
  },
  {
   "cell_type": "code",
   "execution_count": null,
   "id": "a8049de2",
   "metadata": {},
   "outputs": [],
   "source": [
    "test['USD Amount'].sample(5)"
   ]
  },
  {
   "cell_type": "code",
   "execution_count": null,
   "id": "1910a731",
   "metadata": {},
   "outputs": [],
   "source": [
    "test = test.drop(['Customer_Name','Customer Account No','Transaction Date','Due Date','Local Amount','INV_CREATION_DATE','invoice creation date','target'],axis=1)"
   ]
  },
  {
   "cell_type": "code",
   "execution_count": null,
   "id": "9fe63653",
   "metadata": {},
   "outputs": [],
   "source": [
    "test.head()"
   ]
  },
  {
   "cell_type": "code",
   "execution_count": null,
   "id": "f46fd2f2",
   "metadata": {},
   "outputs": [],
   "source": [
    "test['Transaction Class'] = test['Transaction Class'].map({'CREDIT NOTE': 'CM', 'DEBIT NOTE':'DM', 'INVOICE':'INV', 'PAYMENT':'CM'})"
   ]
  },
  {
   "cell_type": "code",
   "execution_count": null,
   "id": "200075c9",
   "metadata": {},
   "outputs": [],
   "source": [
    "test.info()"
   ]
  },
  {
   "cell_type": "code",
   "execution_count": null,
   "id": "5df8b245",
   "metadata": {},
   "outputs": [],
   "source": [
    "test = test.applymap(lambda s: s.lower() if type(s) == str else s)"
   ]
  },
  {
   "cell_type": "code",
   "execution_count": null,
   "id": "7d4d7a8b",
   "metadata": {},
   "outputs": [],
   "source": [
    "test.columns= test.columns.str.lower()"
   ]
  },
  {
   "cell_type": "code",
   "execution_count": null,
   "id": "d0424f21",
   "metadata": {},
   "outputs": [],
   "source": [
    "numeric_data = test.select_dtypes(include=[np.number])\n",
    "categorical_data = test.select_dtypes(exclude=[np.number])"
   ]
  },
  {
   "cell_type": "code",
   "execution_count": null,
   "id": "1bb341f3",
   "metadata": {},
   "outputs": [],
   "source": [
    "categorical_data.columns"
   ]
  },
  {
   "cell_type": "code",
   "execution_count": null,
   "id": "518b4513",
   "metadata": {},
   "outputs": [],
   "source": [
    "categorical_data.rename(columns = {'payment term':'payment_term','transaction class':'invoice_class','transaction currency':'invoice_currency_code'}, inplace = True)"
   ]
  },
  {
   "cell_type": "code",
   "execution_count": null,
   "id": "063f9988",
   "metadata": {},
   "outputs": [],
   "source": [
    "categorical_data.columns"
   ]
  },
  {
   "cell_type": "code",
   "execution_count": null,
   "id": "68a11402",
   "metadata": {},
   "outputs": [],
   "source": [
    "test.rename(columns = {'payment term':'payment_term','transaction class':'invoice_class','transaction currency':'invoice_currency_code'}, inplace = True)"
   ]
  },
  {
   "cell_type": "code",
   "execution_count": null,
   "id": "6488800c",
   "metadata": {},
   "outputs": [],
   "source": [
    "encoded_cols = pd.get_dummies(test[categorical_data.columns], drop_first=True)"
   ]
  },
  {
   "cell_type": "code",
   "execution_count": null,
   "id": "9a29e7c0",
   "metadata": {},
   "outputs": [],
   "source": [
    "numeric_data.columns"
   ]
  },
  {
   "cell_type": "code",
   "execution_count": null,
   "id": "e3a5b63f",
   "metadata": {},
   "outputs": [],
   "source": [
    "numeric_data.rename(columns = {'usd amount':'cbrt_usd_amount'}, inplace=True)"
   ]
  },
  {
   "cell_type": "code",
   "execution_count": null,
   "id": "ee3bd63b",
   "metadata": {},
   "outputs": [],
   "source": [
    "numeric_data.columns"
   ]
  },
  {
   "cell_type": "code",
   "execution_count": null,
   "id": "583731e6",
   "metadata": {},
   "outputs": [],
   "source": [
    "test_data = pd.concat([numeric_data,encoded_cols], axis=1)"
   ]
  },
  {
   "cell_type": "code",
   "execution_count": null,
   "id": "2a08d1d8",
   "metadata": {},
   "outputs": [],
   "source": [
    "test_data.shape"
   ]
  },
  {
   "cell_type": "code",
   "execution_count": null,
   "id": "a6ce2632",
   "metadata": {},
   "outputs": [],
   "source": [
    "unseen = test_data[['age',\n",
    "       'payment_term_50% advance payment and 50% upon receiving the shipment',\n",
    "       'payment_term_eom', 'payment_term_lcsight',\n",
    "       'payment_term_on consignment', 'invoice_currency_code_eur',\n",
    "       'invoice_currency_code_gbp', 'invoice_currency_code_kwd',\n",
    "       'invoice_currency_code_qar', 'invoice_type_non goods']]"
   ]
  },
  {
   "cell_type": "code",
   "execution_count": null,
   "id": "1a6ba65b",
   "metadata": {},
   "outputs": [],
   "source": [
    "X_Predict = lreg_smt_tmk.predict(unseen)"
   ]
  },
  {
   "cell_type": "code",
   "execution_count": null,
   "id": "11ac9b99",
   "metadata": {},
   "outputs": [],
   "source": [
    "lreg_smt_tmk.intercept_"
   ]
  },
  {
   "cell_type": "code",
   "execution_count": null,
   "id": "db3db810",
   "metadata": {},
   "outputs": [],
   "source": [
    "lreg_smt_tmk.coef_"
   ]
  },
  {
   "cell_type": "code",
   "execution_count": null,
   "id": "62f927c1",
   "metadata": {},
   "outputs": [],
   "source": [
    "lreg_smt_tmk.predict_proba(unseen)"
   ]
  },
  {
   "cell_type": "code",
   "execution_count": null,
   "id": "a528042b",
   "metadata": {},
   "outputs": [],
   "source": [
    "result=pd.DataFrame(data=X_Predict, index=unseen.index, columns=['score'])"
   ]
  },
  {
   "cell_type": "code",
   "execution_count": null,
   "id": "511f7815",
   "metadata": {},
   "outputs": [],
   "source": [
    "result.head(5)"
   ]
  },
  {
   "cell_type": "code",
   "execution_count": null,
   "id": "940e1677",
   "metadata": {},
   "outputs": [],
   "source": [
    "result['predicted_probabilities'] = lreg_smt_tmk.predict_proba(unseen)[:,1]"
   ]
  },
  {
   "cell_type": "code",
   "execution_count": null,
   "id": "5689e2e6",
   "metadata": {},
   "outputs": [],
   "source": [
    "result['is_delayed'] = np.where(result['predicted_probabilities'] >= 0.7,\"yes\",\"no\")"
   ]
  },
  {
   "cell_type": "code",
   "execution_count": null,
   "id": "3b37f9ed",
   "metadata": {},
   "outputs": [],
   "source": [
    "result['Cust id'] = df['Customer No.']\n",
    "result['Cust id'] = result['Cust id'].astype('str').str.replace(r\".0\", r\"\", regex=False)"
   ]
  },
  {
   "cell_type": "code",
   "execution_count": null,
   "id": "add5be45",
   "metadata": {},
   "outputs": [],
   "source": [
    "result['actual'] = df['actual']"
   ]
  },
  {
   "cell_type": "code",
   "execution_count": null,
   "id": "29754826",
   "metadata": {},
   "outputs": [],
   "source": [
    "result.rename(columns = {'score':'predicted'}, inplace=True)"
   ]
  },
  {
   "cell_type": "code",
   "execution_count": null,
   "id": "c45a653e",
   "metadata": {},
   "outputs": [],
   "source": [
    "expected_result = result[['Cust id','actual','predicted','is_delayed']]"
   ]
  },
  {
   "cell_type": "code",
   "execution_count": null,
   "id": "7959c433",
   "metadata": {},
   "outputs": [],
   "source": [
    "expected_result.sample(10)"
   ]
  },
  {
   "cell_type": "markdown",
   "id": "8d99ec1d",
   "metadata": {},
   "source": [
    "The above summary table ensures that the probability of late payment is aggregated at a customer level.\n",
    "For example, we can see for customer id 20187, we predicted that the customer will be delayed with more than 70% probabilities."
   ]
  },
  {
   "cell_type": "code",
   "execution_count": null,
   "id": "5ab29383",
   "metadata": {},
   "outputs": [],
   "source": [
    "expected_result[expected_result['is_delayed']==\"yes\"]"
   ]
  },
  {
   "cell_type": "markdown",
   "id": "18501dfd",
   "metadata": {},
   "source": [
    "Finally, we can see that there are 28287 customers out of 88201 unseen records are predicted as delayed customers."
   ]
  },
  {
   "cell_type": "markdown",
   "id": "390befdf",
   "metadata": {},
   "source": [
    "**Top 10 factors / important predictors**"
   ]
  },
  {
   "cell_type": "markdown",
   "id": "f314774c",
   "metadata": {},
   "source": [
    "age\n",
    "payment_term_50% advance payment and 50% upon receiving the shipment\n",
    "payment_term_eom\n",
    "payment_term_lcsight\n",
    "payment_term_on consignment\n",
    "invoice_currency_code_eur\n",
    "invoice_currency_code_gbp\n",
    "invoice_currency_code_kwd\n",
    "invoice_currency_code_qar\n",
    "invoice_type_non goods"
   ]
  },
  {
   "cell_type": "markdown",
   "id": "6530787d",
   "metadata": {},
   "source": [
    "**Recommendations**"
   ]
  },
  {
   "cell_type": "markdown",
   "id": "ef650160",
   "metadata": {},
   "source": [
    "1. We should focus more on the time difference between Due Date and Invoice Payment Date\n",
    "2. Payment terms: 50% advance payment and 50% upon receiving the shipment, eom, lcsight and on consignment variables need to be considered with greater attention.\n",
    "3. Where the invoice currency codes are eur, gbp, kwd and qar, the risk is higher of delay payment.\n",
    "4. Invoice type non-goods has lower impact than Goods invoice type in delayed payment."
   ]
  },
  {
   "cell_type": "markdown",
   "id": "1af8a621",
   "metadata": {},
   "source": []
  }
 ],
 "metadata": {
  "kernelspec": {
   "display_name": "Python 3",
   "language": "python",
   "name": "python3"
  },
  "language_info": {
   "codemirror_mode": {
    "name": "ipython",
    "version": 3
   },
   "file_extension": ".py",
   "mimetype": "text/x-python",
   "name": "python",
   "nbconvert_exporter": "python",
   "pygments_lexer": "ipython3",
   "version": "3.8.8"
  }
 },
 "nbformat": 4,
 "nbformat_minor": 5
}
